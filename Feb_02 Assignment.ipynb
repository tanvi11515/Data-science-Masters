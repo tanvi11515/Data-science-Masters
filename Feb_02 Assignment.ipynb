{
 "cells": [
  {
   "cell_type": "markdown",
   "id": "9bb94255",
   "metadata": {},
   "source": [
    "Q1)Answer:\n",
    "Tuple items are ordered, unchangeable, and allow duplicate values. Tuple items are indexed, the first item has index, the second item has index etc.yes, the tuples are immutable."
   ]
  },
  {
   "cell_type": "markdown",
   "id": "8daeb396",
   "metadata": {},
   "source": [
    "\n",
    "Q2)Answer\n",
    "Python has two built-in methods that you can use on tuples.\n",
    "count()-Returns the number of times a specified value occurs in a tuple\n",
    "index()-Searches the tuple for a specified value and returns the position of where it was found"
   ]
  },
  {
   "cell_type": "markdown",
   "id": "b09940d3",
   "metadata": {},
   "source": [
    "Q3)Answer\n",
    "A set is a data structure that is very similar to lists. It is a collection of items that can be accessed using a single variable name. But the most important property of a set is that it cannot have duplicate values\n"
   ]
  },
  {
   "cell_type": "code",
   "execution_count": 1,
   "id": "14a1af56",
   "metadata": {},
   "outputs": [
    {
     "name": "stdout",
     "output_type": "stream",
     "text": [
      "[1, 2, 3, 4]\n"
     ]
    }
   ],
   "source": [
    "#Q3)Answer-code\n",
    "\n",
    "original_list = [1, 1, 1, 2, 1, 3, 1, 4, 2, 1, 2, 2, 2, 3, 2, 4, 3, 1, 3, 2, 3, 3, 3, 4, 4, 1, 4, 2, 4, 3, 4, 4]\n",
    "unique_list = list(set(original_list))\n",
    "print(unique_list)"
   ]
  },
  {
   "cell_type": "markdown",
   "id": "8ece11b6",
   "metadata": {},
   "source": [
    "Q4)Answer\n",
    "Both set.update() and set.union() perform the union operation. However, set.update() adds all missing elements to the set on which it is called whereas set.union() creates a new set. Consequently, the return value of set.update() is None (with side effects) and the return value of set.union() is a set (without side effects)."
   ]
  },
  {
   "cell_type": "code",
   "execution_count": null,
   "id": "e211e501",
   "metadata": {},
   "outputs": [],
   "source": [
    "#Update example\n",
    "s = {1, 2, 3}\n",
    "s.update({4, 5})\n",
    "s\n",
    "#union example\n",
    "s = {1, 2, 3}\n",
    "s.union({4, 5})\n",
    "\n"
   ]
  },
  {
   "cell_type": "markdown",
   "id": "03bd1847",
   "metadata": {},
   "source": [
    "Q5)Answer\n",
    "In computer programming, a dictionary is a data structure that stores key-value pairs. Each key in the dictionary is associated with a value, which can be of any data type. Dictionaries are commonly used for mapping one set of values (the keys) to another set of values (the values).\n",
    "\n",
    "Here's an example of a Python dictionary that maps names to ages:\n",
    "\n",
    "ages = {'John': 25, 'Jane': 30, 'Bob': 35}\n",
    "\n",
    "Dictionaries in Python are unordered, which means that the keys are not stored in any particular order. If you need to iterate over the keys in a specific order, you can sort them first\n"
   ]
  },
  {
   "cell_type": "markdown",
   "id": "92c8a570",
   "metadata": {},
   "source": [
    "Q6)Answer\n",
    "Yes, we can create a nested dictionary in Python. A nested dictionary is simply a dictionary that contains one or more dictionaries as values. Here's an example of a simple one-level nested dictionary:\n",
    "\n",
    "my_dict = {\n",
    "    \"name\": \"John\",\n",
    "    \"age\": 30,\n",
    "    \"address\": {\n",
    "        \"street\": \"123 Main St\",\n",
    "        \"city\": \"New York\",\n",
    "        \"state\": \"NY\",\n",
    "        \"zipcode\": \"10001\"\n",
    "    }\n",
    "}\n",
    "\n"
   ]
  },
  {
   "cell_type": "code",
   "execution_count": null,
   "id": "4c40524f",
   "metadata": {},
   "outputs": [],
   "source": [
    "###Q7)Answer\n",
    "my_dict = {'name': 'John', 'age': 30}\n",
    "\n",
    "# Using setdefault method to add new key and value to dictionary\n",
    "my_dict.setdefault('topics', ['Python', 'Machine Learning', 'Deep Learning'])\n",
    "\n",
    "print(my_dict)  # {'name': 'John', 'age': 30, 'topics': ['Python', 'Machine Learning', 'Deep Learning']}\n",
    "\n",
    "\n",
    "### the setdefault() method takes two arguments: the first argument is the key to be added to the dictionary, and the second argument is the default value to be set for the key if it doesn't already exist in the dictionary. In this case, we're adding the topics key and setting its default value to the list ['Python', 'Machine Learning', 'Deep Learning']. Since the topics key doesn't already exist in the dictionary, it will be added along with its default value."
   ]
  },
  {
   "cell_type": "markdown",
   "id": "0b85bc3f",
   "metadata": {},
   "source": [
    "Q8)Answer\n",
    "\n",
    "In Python, a dictionary has three built-in view objects that allow us to access different aspects of the dictionary. These are:\n",
    "\n",
    "dict.keys() - Returns a view object containing the keys of the dictionary\n",
    "dict.values() - Returns a view object containing the values of the dictionary\n",
    "dict.items() - Returns a view object containing the key-value pairs of the dictionary\n",
    "Here's how we can display these view objects for the given dictionary:"
   ]
  },
  {
   "cell_type": "code",
   "execution_count": null,
   "id": "c39850a6",
   "metadata": {},
   "outputs": [],
   "source": [
    "#Q8)Code\n",
    "\n",
    "dict1 = {'Sport': 'Cricket' , 'Teams': ['India', 'Australia', 'England', 'South Africa', 'Sri Lanka', 'New Zealand']}\n",
    "\n",
    "# Display the keys of the dictionary\n",
    "print(dict1.keys())\n",
    "\n",
    "# Display the values of the dictionary\n",
    "print(dict1.values())\n",
    "\n",
    "# Display the key-value pairs of the dictionary\n",
    "print(dict1.items())\n"
   ]
  }
 ],
 "metadata": {
  "kernelspec": {
   "display_name": "Python 3 (ipykernel)",
   "language": "python",
   "name": "python3"
  },
  "language_info": {
   "codemirror_mode": {
    "name": "ipython",
    "version": 3
   },
   "file_extension": ".py",
   "mimetype": "text/x-python",
   "name": "python",
   "nbconvert_exporter": "python",
   "pygments_lexer": "ipython3",
   "version": "3.10.9"
  }
 },
 "nbformat": 4,
 "nbformat_minor": 5
}
